{
 "cells": [
  {
   "cell_type": "markdown",
   "metadata": {},
   "source": [
    "**Задание 1.** Напишите функцию, которая принимает на вход строку и проверяет является ли она валидным транспортным номером. Если да, то функция должна возвращать отдельно номер и регион."
   ]
  },
  {
   "cell_type": "code",
   "execution_count": 1,
   "metadata": {},
   "outputs": [],
   "source": [
    "import re\n",
    "import requests\n",
    "import pandas as pd\n",
    "from bs4 import BeautifulSoup"
   ]
  },
  {
   "cell_type": "markdown",
   "metadata": {},
   "source": [
    "Возьмем только самые популярные транспортные номера в России:\n",
    "1. Стандарт - А111АА77\n",
    "2. Такси - АА12377"
   ]
  },
  {
   "cell_type": "code",
   "execution_count": 2,
   "metadata": {},
   "outputs": [],
   "source": [
    "test_list = ['А123ВЕ777', 'А123ВЕ77','А123ВЕ999', 'АВ123Е999', 'Я123ВЕ777', 'а123ВЕ777', 'АВЕ1234777', 'АА12377'\\\n",
    "             , 'АА123777', 'Аа12377', 'А123А77', 'АБ12377', 'А564ВЕ86', 'Р564ВЕ50']"
   ]
  },
  {
   "cell_type": "code",
   "execution_count": 7,
   "metadata": {},
   "outputs": [],
   "source": [
    "def main(ts_num):\n",
    "    if find_kind_of_ts_number(ts_num) == 's' and test_kind_of_ts(ts_num) and test_letters_validity(ts_num)\\\n",
    "        and check_region(ts_num):\n",
    "        return print('Number is ', ''.join(re.findall('([0-9])', ts_num[:6])), ', region is ',ts_num[6:], check_region(ts_num))\n",
    "    if find_kind_of_ts_number(ts_num) == 't' and test_kind_of_ts(ts_num) and test_letters_validity(ts_num)\\\n",
    "        and check_region(ts_num):\n",
    "        return print('Number is ', ''.join(re.findall('([0-9])', ts_num[:5])), ', region is ',ts_num[5:], check_region(ts_num))"
   ]
  },
  {
   "cell_type": "code",
   "execution_count": 8,
   "metadata": {},
   "outputs": [
    {
     "name": "stdout",
     "output_type": "stream",
     "text": [
      "Number is  123 , region is  777 Москва\n",
      "Number is  123 , region is  77 Москва\n",
      "Number is  123 , region is  77 Москва\n",
      "Number is  123 , region is  777 Москва\n",
      "Number is  564 , region is  86 Ханты-Мансийский автономный округ - Югра\n",
      "Number is  564 , region is  50 Московская область\n"
     ]
    }
   ],
   "source": [
    "for i in test_list:\n",
    "#     print(i)\n",
    "    (main(i))"
   ]
  },
  {
   "cell_type": "code",
   "execution_count": 3,
   "metadata": {},
   "outputs": [],
   "source": [
    "def find_kind_of_ts_number(ts_num):\n",
    "    if len(re.findall('[^\\d{1}]+', ts_num)[0]) == 1:\n",
    "        return 's'\n",
    "    if len(re.findall('[^\\d{1}]+', ts_num)[0]) == 2:\n",
    "        return 't'\n",
    "    return 'Undefined kind of ts'        "
   ]
  },
  {
   "cell_type": "code",
   "execution_count": null,
   "metadata": {},
   "outputs": [],
   "source": [
    "for i in test_list:\n",
    "    print(i, find_kind_of_ts_number(i))"
   ]
  },
  {
   "cell_type": "code",
   "execution_count": 4,
   "metadata": {},
   "outputs": [],
   "source": [
    "def test_kind_of_ts(ts_num):\n",
    "    if find_kind_of_ts_number(ts_num) == 's' and re.search('([А-Я]{1})([0-9]{3})([А-Я]{2})([0-9]{2,3})', ts_num):\n",
    "        return True\n",
    "    if find_kind_of_ts_number(ts_num) == 't' and re.search('([А-Я]{2})([0-9]{5,6})', ts_num):\n",
    "        return True\n",
    "    return False"
   ]
  },
  {
   "cell_type": "code",
   "execution_count": null,
   "metadata": {},
   "outputs": [],
   "source": [
    "for i in test_list:\n",
    "    print(i, test_kind_of_ts(i))"
   ]
  },
  {
   "cell_type": "code",
   "execution_count": 5,
   "metadata": {},
   "outputs": [],
   "source": [
    "def test_letters_validity(ts_num):\n",
    "    valid_letters = ['А', 'В', 'Е', 'К', 'М', 'Н', 'О', 'Р', 'С', 'Т', 'У', 'Х']\n",
    "    validity_check = 0\n",
    "    for i in re.findall('[^0-9]', ts_num):\n",
    "        if i not in valid_letters:\n",
    "            validity_check += 1\n",
    "    if validity_check > 0:\n",
    "        return False\n",
    "    return True"
   ]
  },
  {
   "cell_type": "code",
   "execution_count": null,
   "metadata": {},
   "outputs": [],
   "source": [
    "for i in test_list:\n",
    "    print(i, test_letters_validity(i))"
   ]
  },
  {
   "cell_type": "code",
   "execution_count": 6,
   "metadata": {},
   "outputs": [],
   "source": [
    "def check_region(ts_num):\n",
    "    r = requests.get('http://xn--b1agvbfco4a5df.xn--p1ai/kodirf.html')\n",
    "    string_pd = pd.read_html(r.content)[1:2]\n",
    "    df = string_pd[0]\n",
    "    df.columns = ['region', 'region_code', 'GIBDD_code', 'Код ОКАТО и ОКТМО', 'Код ISO 3166-2 и ГОСТ 7.67-2003']\n",
    "    df_for_reg = df[['region', 'region_code', 'GIBDD_code']]\n",
    "    if find_kind_of_ts_number(ts_num) == 's' and len(df[df.GIBDD_code.str.contains(ts_num[6:])]) > 0:\n",
    "        return df[df.GIBDD_code.str.contains(i[6:])]['region'].iloc[0]\n",
    "    if find_kind_of_ts_number(ts_num) == 't' and len(df[df.GIBDD_code.str.contains(ts_num[6:])]) > 0:\n",
    "        return df[df.GIBDD_code.str.contains(i[5:])]['region'].iloc[0]\n",
    "    else:\n",
    "        return False"
   ]
  },
  {
   "cell_type": "code",
   "execution_count": null,
   "metadata": {},
   "outputs": [],
   "source": [
    "for i in test_list:\n",
    "    print(i, check_region(i))"
   ]
  },
  {
   "cell_type": "markdown",
   "metadata": {},
   "source": [
    "**Задание 2**. Напишите функцию, которая проверяет e-mail адрес на валидность по стандарту RFC822: http://www.w3.org/Protocols/rfc822/. Для этого постарайтесь написать (в крайнем случае найти) самый полный шаблон для проверки e-mail адресов через регулярное выражение. Разберитесь и напишите примеры, какие ваш шаблон может не охватить."
   ]
  },
  {
   "cell_type": "code",
   "execution_count": 15,
   "metadata": {},
   "outputs": [],
   "source": [
    "test_emails = ['dk@yandex.ru', 'dk@ru.dk.com', '@', 'dk', 'dk@', 'dk@.com', 'dk@.', 'dk@r.r', '@dk.com', '@ru', 'a@a'\\\n",
    "               , '!@gmail.com', 'DK@gmail.com', 'DK@GMAIL.COM', 'dk.gmail.com']"
   ]
  },
  {
   "cell_type": "code",
   "execution_count": 17,
   "metadata": {},
   "outputs": [],
   "source": [
    "def check_mail_adress(mystring):\n",
    "    reg_email = '^[\\w]+\\@([\\w]+\\.){1,2}([\\w]){2,4}'\n",
    "    if re.search(reg_email, mystring):\n",
    "        print(f'Email {mystring} is valid!')\n",
    "    else:\n",
    "        print(f'Email {mystring} is invalid!')"
   ]
  },
  {
   "cell_type": "code",
   "execution_count": 18,
   "metadata": {},
   "outputs": [
    {
     "name": "stdout",
     "output_type": "stream",
     "text": [
      "Email dk@yandex.ru is valid!\n",
      "Email dk@ru.dk.com is valid!\n",
      "Email @ is invalid!\n",
      "Email dk is invalid!\n",
      "Email dk@ is invalid!\n",
      "Email dk@.com is invalid!\n",
      "Email dk@. is invalid!\n",
      "Email dk@r.r is invalid!\n",
      "Email @dk.com is invalid!\n",
      "Email @ru is invalid!\n",
      "Email a@a is invalid!\n",
      "Email !@gmail.com is invalid!\n",
      "Email DK@gmail.com is valid!\n",
      "Email DK@GMAIL.COM is valid!\n",
      "Email dk.gmail.com is invalid!\n"
     ]
    }
   ],
   "source": [
    "for i in test_emails:\n",
    "    check_mail_adress(i)"
   ]
  },
  {
   "cell_type": "markdown",
   "metadata": {},
   "source": [
    "**Задание 3.** Напишите функцию, которая будет удалять все последовательные повторы слов из заданной строки при помощи регулярных выражений."
   ]
  },
  {
   "cell_type": "code",
   "execution_count": 47,
   "metadata": {},
   "outputs": [],
   "source": [
    "test_doubl = \"1 2 2 2 2 2 3 4 aa aaaa aa a aa a\""
   ]
  },
  {
   "cell_type": "code",
   "execution_count": 61,
   "metadata": {
    "scrolled": true
   },
   "outputs": [],
   "source": [
    "def remove_dupl_w_regex(mystr):\n",
    "    reg_exp = r'(\\w)(.+\\s)\\1'\n",
    "    return re.sub(reg_exp, r'\\1',mystr)"
   ]
  },
  {
   "cell_type": "code",
   "execution_count": 62,
   "metadata": {},
   "outputs": [
    {
     "data": {
      "text/plain": [
       "'1 2 3 4 a'"
      ]
     },
     "execution_count": 62,
     "metadata": {},
     "output_type": "execute_result"
    }
   ],
   "source": [
    "remove_dupl_w_regex(test_doubl)"
   ]
  },
  {
   "cell_type": "markdown",
   "metadata": {},
   "source": [
    "**Задание 4**. Напишите функцию, которая будет проверять номер сотового телефона на валидность, если он валиден, то переводить его в формат:   \n",
    "+7(xxx)-xxx-xx-xx  \n",
    "Постарайтесь предусмотреть как можно больше адекватных форматов изначального ввода номера.\n",
    "Примеры валидных форматов:\n",
    "- +7 955 555-55-55;\n",
    "- 9555555555;\n",
    "- 8(955)555-55-55;\n",
    "- +7 955 555 55 55;\n",
    "- 7(955) 555-55-55;\n",
    "- +7 955+555+55+55."
   ]
  },
  {
   "cell_type": "code",
   "execution_count": 126,
   "metadata": {},
   "outputs": [],
   "source": [
    "test_phone = ['+7 955 555-51-55', '9555555555', '8(955)555-55-55',\\\n",
    "              '+7 955 453 55 55', '7(955) 555-55-55', '+7 955+555+55+55', '12345679', 'o79154324545', '8495-098-76-54']"
   ]
  },
  {
   "cell_type": "code",
   "execution_count": 70,
   "metadata": {},
   "outputs": [],
   "source": [
    "def check_phone_start(myph):\n",
    "    if myph[0:2] == '+7' or myph[0] in ('7', '8', '9'):\n",
    "        return True\n",
    "    else:\n",
    "        return False"
   ]
  },
  {
   "cell_type": "code",
   "execution_count": 74,
   "metadata": {},
   "outputs": [
    {
     "name": "stdout",
     "output_type": "stream",
     "text": [
      "+7 955 555-55-55 True\n",
      "9555555555 True\n",
      "8(955)555-55-55 True\n",
      "+7 955 555 55 55 True\n",
      "7(955) 555-55-55 True\n",
      "+7 955+555+55+55 True\n",
      "12345679 False\n"
     ]
    }
   ],
   "source": [
    "for i in test_phone:\n",
    "    print(i, check_phone_start(i))"
   ]
  },
  {
   "cell_type": "code",
   "execution_count": 93,
   "metadata": {},
   "outputs": [],
   "source": [
    "def check_no_letters_in_phone_num(myph):\n",
    "    if re.search(r'[a-zA-Zа-яА-Я]', myph):\n",
    "        return False\n",
    "    else:\n",
    "        return True"
   ]
  },
  {
   "cell_type": "code",
   "execution_count": 94,
   "metadata": {},
   "outputs": [
    {
     "name": "stdout",
     "output_type": "stream",
     "text": [
      "+7 955 555-55-55 True\n",
      "9555555555 True\n",
      "8(955)555-55-55 True\n",
      "+7 955 555 55 55 True\n",
      "7(955) 555-55-55 True\n",
      "+7 955+555+55+55 True\n",
      "12345679 True\n",
      "o79154324545 False\n"
     ]
    }
   ],
   "source": [
    "for i in test_phone:\n",
    "    print(i, check_no_letters_in_phone_num(i))"
   ]
  },
  {
   "cell_type": "code",
   "execution_count": 123,
   "metadata": {},
   "outputs": [],
   "source": [
    "def check_number_of_digits_in_phone_and_convert(myph):\n",
    "    myph_convert =  ''.join(re.findall(r'(?=9|4)[0-9]+', re.sub(r'(\\s|-|\\+|\\(|\\))', '', myph)))\n",
    "    if len(myph_convert) == 10:\n",
    "        print(f'+7({myph_convert[:3]})-{myph_convert[3:6]}-{myph_convert[6:8]}-{myph_convert[8:]}')\n",
    "    else:\n",
    "        print(f'Error {myph}')"
   ]
  },
  {
   "cell_type": "code",
   "execution_count": 119,
   "metadata": {},
   "outputs": [
    {
     "name": "stdout",
     "output_type": "stream",
     "text": [
      "+7(955)-555-555-5\n",
      "+7(955)-555-555-5\n",
      "+7(955)-555-555-5\n",
      "+7(955)-555-555-5\n",
      "+7(955)-555-555-5\n",
      "+7(955)-555-555-5\n",
      "Error 12345679\n",
      "+7(915)-432-454-5\n",
      "+7(495)-098-765-4\n"
     ]
    }
   ],
   "source": [
    "for i in test_phone:\n",
    "    check_number_of_digits_in_phone_and_convert(i)"
   ]
  },
  {
   "cell_type": "code",
   "execution_count": 120,
   "metadata": {},
   "outputs": [],
   "source": [
    "def main_check_and_convert_phone_number(myph):\n",
    "    if check_phone_start(myph) and check_no_letters_in_phone_num(myph):\n",
    "        return check_number_of_digits_in_phone_and_convert(myph)"
   ]
  },
  {
   "cell_type": "code",
   "execution_count": 127,
   "metadata": {},
   "outputs": [
    {
     "name": "stdout",
     "output_type": "stream",
     "text": [
      "+7(955)-555-51-55\n",
      "+7(955)-555-55-55\n",
      "+7(955)-555-55-55\n",
      "+7(955)-453-55-55\n",
      "+7(955)-555-55-55\n",
      "+7(955)-555-55-55\n",
      "+7(495)-098-76-54\n"
     ]
    }
   ],
   "source": [
    "for i in test_phone:\n",
    "    main_check_and_convert_phone_number(i)"
   ]
  }
 ],
 "metadata": {
  "kernelspec": {
   "display_name": "Python 3",
   "language": "python",
   "name": "python3"
  },
  "language_info": {
   "codemirror_mode": {
    "name": "ipython",
    "version": 3
   },
   "file_extension": ".py",
   "mimetype": "text/x-python",
   "name": "python",
   "nbconvert_exporter": "python",
   "pygments_lexer": "ipython3",
   "version": "3.7.4"
  }
 },
 "nbformat": 4,
 "nbformat_minor": 2
}
